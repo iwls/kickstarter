{
 "cells": [
  {
   "cell_type": "code",
   "execution_count": 1,
   "metadata": {
    "collapsed": false,
    "scrolled": true
   },
   "outputs": [],
   "source": [
    "import numpy as np # linear algebra\n",
    "import pandas as pd # data processing, CSV file I/O (e.g. pd.read_csv)\n",
    "import matplotlib.pyplot as plt\n",
    "import re\n",
    "\n",
    "from matplotlib import style\n",
    "%matplotlib inline  \n",
    "plt.rcParams['figure.figsize'] = (10, 6)\n",
    "plt.style.use('ggplot')\n",
    "import os\n",
    "import scipy as sc\n",
    "# graphics\n",
    "import seaborn as sns\n",
    "sns.set(style=\"whitegrid\", color_codes=True)\n",
    "#Decision tree"
   ]
  },
  {
   "cell_type": "code",
   "execution_count": 15,
   "metadata": {
    "collapsed": false,
    "scrolled": true
   },
   "outputs": [
    {
     "data": {
      "text/plain": [
       "['Unnamed: 0',\n",
       " 'amt.pledged',\n",
       " 'blurb',\n",
       " 'by',\n",
       " 'country',\n",
       " 'currency',\n",
       " 'end.time',\n",
       " 'location',\n",
       " 'percentage.funded',\n",
       " 'state',\n",
       " 'title',\n",
       " 'type',\n",
       " 'url']"
      ]
     },
     "execution_count": 15,
     "metadata": {},
     "output_type": "execute_result"
    }
   ],
   "source": [
    "df= pd.read_csv('live.csv', parse_dates =['end.time'])\n",
    "df2= pd.read_csv ('most_backed.csv')\n",
    "list(df)"
   ]
  },
  {
   "cell_type": "markdown",
   "metadata": {
    "collapsed": true
   },
   "source": [
    "Data cleaning: remove all punctuation"
   ]
  },
  {
   "cell_type": "code",
   "execution_count": 6,
   "metadata": {
    "collapsed": true
   },
   "outputs": [],
   "source": [
    "def clean_punctuation(text): # stolen from Virginie\n",
    "  '''\n",
    "  text= string text\n",
    "  return a clean text, replacing the punctuation by a space or nothing\n",
    "  '''\n",
    "  super_clean=re.sub(\"[ ]*[--\\\"',+;?\\.~=%\\*´`!\\(\\)\\/\\\\:!#%$][ ]*\",\" \",text)\n",
    "  super_clean=re.sub(\"[ ]+\",\" \",super_clean).strip()\n",
    "  return super_clean"
   ]
  },
  {
   "cell_type": "code",
   "execution_count": 7,
   "metadata": {
    "collapsed": false
   },
   "outputs": [],
   "source": [
    "df['clean_blurb'] = df['blurb'].apply(lambda x: clean_punctuation (x))\n",
    "df2['clean_blurb'] = df2['blurb'].apply(lambda x: clean_punctuation (x))"
   ]
  },
  {
   "cell_type": "markdown",
   "metadata": {},
   "source": [
    "Creating new blurb features:\n",
    "- number of words (blurb_wc)\n",
    "- average wordlength (blurb_awl)\n",
    "- df[goal]\n",
    "- df2[percentage.funded]"
   ]
  },
  {
   "cell_type": "code",
   "execution_count": 10,
   "metadata": {
    "collapsed": false
   },
   "outputs": [],
   "source": [
    "#average word count and word length blurb\n",
    "# live dataset\n",
    "df['clean_blurb_wc'] = df.clean_blurb.str.split().apply(len)\n",
    "df['clean_blurb_awl'] = (df.clean_blurb.str.len()-df.clean_blurb.str.count(\" \"))/(df.clean_blurb_wc)\n",
    "\n",
    "##df[goal]\n",
    "df.loc[df['percentage.funded'] == 0, 'percentage.funded'] = 0.001\n",
    "df.loc[df['amt.pledged'] == 0, 'amt.pledged'] = 0.000000001\n",
    "df['goal']=df['amt.pledged']/(df['percentage.funded']*100)\n",
    "#most succesfull dataset\n",
    "df2['clean_blurb_wc'] = df2.clean_blurb.str.split().apply(len)\n",
    "df2['clean_blurb_awl'] = (df2.clean_blurb.str.len()-df2.clean_blurb.str.count(\" \"))/(df2.clean_blurb_wc)\n",
    "\n",
    "df2['percentage.funded']=df2['amt.pledged']/df2['goal']\n"
   ]
  },
  {
   "cell_type": "markdown",
   "metadata": {},
   "source": [
    "To do:\n",
    "Data cleaning: \n",
    "    1. bring words to basic forms (Virginie)\n",
    "Feature creation:\n",
    "    1. Identify nouns, ...\n",
    "    2. TFID (Virginie)\n",
    "    3. ...\n",
    "Creation of new csv for the boys to work with\n"
   ]
  }
 ],
 "metadata": {
  "kernelspec": {
   "display_name": "Python 3",
   "language": "python",
   "name": "python3"
  },
  "language_info": {
   "codemirror_mode": {
    "name": "ipython",
    "version": 3
   },
   "file_extension": ".py",
   "mimetype": "text/x-python",
   "name": "python",
   "nbconvert_exporter": "python",
   "pygments_lexer": "ipython3",
   "version": "3.6.0"
  }
 },
 "nbformat": 4,
 "nbformat_minor": 2
}
