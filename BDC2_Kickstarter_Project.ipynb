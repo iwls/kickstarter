{
 "cells": [
  {
   "cell_type": "code",
   "execution_count": 9,
   "metadata": {
    "collapsed": false,
    "scrolled": true
   },
   "outputs": [],
   "source": [
    "import numpy as np # linear algebra\n",
    "import pandas as pd # data processing, CSV file I/O (e.g. pd.read_csv)\n",
    "import matplotlib.pyplot as plt\n",
    "import re\n",
    "\n",
    "from matplotlib import style\n",
    "%matplotlib inline  \n",
    "plt.rcParams['figure.figsize'] = (10, 6)\n",
    "plt.style.use('ggplot')\n",
    "import os\n",
    "import scipy as sc\n",
    "# graphics\n",
    "import seaborn as sns\n",
    "sns.set(style=\"whitegrid\", color_codes=True)\n",
    "#Decision tree"
   ]
  },
  {
   "cell_type": "code",
   "execution_count": 2,
   "metadata": {
    "collapsed": false
   },
   "outputs": [
    {
     "data": {
      "text/plain": [
       "['Unnamed: 0',\n",
       " 'amt.pledged',\n",
       " 'blurb',\n",
       " 'by',\n",
       " 'country',\n",
       " 'currency',\n",
       " 'end.time',\n",
       " 'location',\n",
       " 'percentage.funded',\n",
       " 'state',\n",
       " 'title',\n",
       " 'type',\n",
       " 'url']"
      ]
     },
     "execution_count": 2,
     "metadata": {},
     "output_type": "execute_result"
    }
   ],
   "source": [
    "df= pd.read_csv ('live.csv')\n",
    "list(df)\n",
    "#df.isnull().sum()"
   ]
  },
  {
   "cell_type": "code",
   "execution_count": 13,
   "metadata": {
    "collapsed": false
   },
   "outputs": [
    {
     "data": {
      "text/plain": [
       "<matplotlib.collections.PathCollection at 0xc40aa90>"
      ]
     },
     "execution_count": 13,
     "metadata": {},
     "output_type": "execute_result"
    },
    {
     "data": {
      "image/png": "[encoded data removed]",
      "text/plain": [
       "<matplotlib.figure.Figure at 0xc6ceda0>"
      ]
     },
     "metadata": {},
     "output_type": "display_data"
    }
   ],
   "source": [
    "plt.scatter(df['amt.pledged'],df['percentage.funded'])\n"
   ]
  },
  {
   "cell_type": "code",
   "execution_count": 14,
   "metadata": {
    "collapsed": false
   },
   "outputs": [
    {
     "data": {
      "text/plain": [
       "0       2016-11-01T23:59:00-04:00\n",
       "1       2016-11-25T01:13:33-05:00\n",
       "2       2016-11-23T23:00:00-05:00\n",
       "3       2016-11-01T23:50:00-04:00\n",
       "4       2016-11-18T23:05:48-05:00\n",
       "5       2016-11-28T00:00:00-05:00\n",
       "6       2016-11-20T11:57:34-05:00\n",
       "7       2016-11-28T15:00:00-05:00\n",
       "8       2016-11-09T19:27:32-05:00\n",
       "9       2016-10-30T06:21:30-04:00\n",
       "10      2016-11-22T23:30:00-05:00\n",
       "11      2016-11-26T02:55:00-05:00\n",
       "12      2016-11-16T00:00:46-05:00\n",
       "13      2016-11-18T16:22:53-05:00\n",
       "14      2016-11-02T20:00:00-04:00\n",
       "15      2016-11-25T08:25:18-05:00\n",
       "16      2016-11-10T10:03:09-05:00\n",
       "17      2016-11-02T18:59:00-04:00\n",
       "18      2016-11-30T22:00:00-05:00\n",
       "19      2016-11-09T08:56:57-05:00\n",
       "20      2016-12-09T20:00:00-05:00\n",
       "21      2016-11-26T11:41:44-05:00\n",
       "22      2016-11-27T22:18:49-05:00\n",
       "23      2016-12-06T16:00:00-05:00\n",
       "24      2016-11-03T22:00:00-04:00\n",
       "25      2016-11-17T11:05:44-05:00\n",
       "26      2016-11-03T23:00:00-04:00\n",
       "27      2016-11-12T13:11:32-05:00\n",
       "28      2016-11-02T09:58:00-04:00\n",
       "29      2016-11-07T10:16:51-05:00\n",
       "                  ...            \n",
       "3970    2016-11-23T07:01:25-05:00\n",
       "3971    2016-11-30T13:30:00-05:00\n",
       "3972    2016-11-03T18:23:35-04:00\n",
       "3973    2016-11-22T10:58:21-05:00\n",
       "3974    2016-12-27T16:56:00-05:00\n",
       "3975    2016-11-16T21:00:00-05:00\n",
       "3976    2016-12-23T09:06:52-05:00\n",
       "3977    2016-11-03T14:21:38-04:00\n",
       "3978    2016-11-24T13:36:12-05:00\n",
       "3979    2016-12-08T17:57:39-05:00\n",
       "3980    2016-11-14T12:45:54-05:00\n",
       "3981    2016-11-20T18:36:15-05:00\n",
       "3982    2016-12-05T15:25:00-05:00\n",
       "3983    2016-11-21T13:50:34-05:00\n",
       "3984    2016-12-05T18:20:37-05:00\n",
       "3985    2016-10-30T23:00:00-04:00\n",
       "3986    2016-12-25T15:55:11-05:00\n",
       "3987    2016-11-08T19:37:09-05:00\n",
       "3988    2016-12-05T10:07:48-05:00\n",
       "3989    2016-11-19T18:48:11-05:00\n",
       "3990    2016-11-07T01:25:34-05:00\n",
       "3991    2016-11-01T03:00:00-04:00\n",
       "3992    2016-11-17T10:49:36-05:00\n",
       "3993    2016-11-15T09:59:52-05:00\n",
       "3994    2016-11-08T11:32:35-05:00\n",
       "3995    2016-11-20T01:10:00-05:00\n",
       "3996    2016-11-15T16:00:00-05:00\n",
       "3997    2016-10-30T09:36:06-04:00\n",
       "3998    2016-11-17T12:11:26-05:00\n",
       "3999    2016-12-11T00:11:01-05:00\n",
       "Name: end.time, dtype: object"
      ]
     },
     "execution_count": 14,
     "metadata": {},
     "output_type": "execute_result"
    }
   ],
   "source": [
    "#df[df['percentage.funded'].gt(15000)]\n",
    "df['end.time']"
   ]
  },
  {
   "cell_type": "code",
   "execution_count": 15,
   "metadata": {
    "collapsed": false
   },
   "outputs": [],
   "source": [
    "df.goal = (df[\"amt.pledged\"]/df[\"percentage.funded\"])*100\n"
   ]
  },
  {
   "cell_type": "code",
   "execution_count": 16,
   "metadata": {
    "collapsed": false
   },
   "outputs": [
    {
     "data": {
      "text/plain": [
       "<matplotlib.collections.PathCollection at 0xc4b4710>"
      ]
     },
     "execution_count": 16,
     "metadata": {},
     "output_type": "execute_result"
    },
    {
     "data": {
      "image/png": "[encoded data removed]",
      "text/plain": [
       "<matplotlib.figure.Figure at 0xc4255f8>"
      ]
     },
     "metadata": {},
     "output_type": "display_data"
    }
   ],
   "source": [
    "plt.scatter(df.goal, df[\"percentage.funded\"])"
   ]
  },
  {
   "cell_type": "code",
   "execution_count": null,
   "metadata": {
    "collapsed": true
   },
   "outputs": [],
   "source": []
  },
  {
   "cell_type": "code",
   "execution_count": 17,
   "metadata": {
    "collapsed": false
   },
   "outputs": [
    {
     "data": {
      "text/plain": [
       "['Unnamed: 0',\n",
       " 'amt.pledged',\n",
       " 'blurb',\n",
       " 'by',\n",
       " 'category',\n",
       " 'currency',\n",
       " 'goal',\n",
       " 'location',\n",
       " 'num.backers',\n",
       " 'num.backers.tier',\n",
       " 'pledge.tier',\n",
       " 'title',\n",
       " 'url']"
      ]
     },
     "execution_count": 17,
     "metadata": {},
     "output_type": "execute_result"
    }
   ],
   "source": [
    "df2= pd.read_csv ('most_backed.csv')\n",
    "list(df2)\n"
   ]
  },
  {
   "cell_type": "code",
   "execution_count": 18,
   "metadata": {
    "collapsed": false
   },
   "outputs": [
    {
     "data": {
      "text/plain": [
       "<matplotlib.axes._subplots.AxesSubplot at 0xc97a390>"
      ]
     },
     "execution_count": 18,
     "metadata": {},
     "output_type": "execute_result"
    },
    {
     "data": {
      "image/png": "[encoded data removed]",
      "text/plain": [
       "<matplotlib.figure.Figure at 0xc8d0a58>"
      ]
     },
     "metadata": {},
     "output_type": "display_data"
    }
   ],
   "source": [
    "df2[\"goal\"].plot(kind = 'density')\n",
    "#plt.scatter(df2.goal.values,df2.goal)"
   ]
  },
  {
   "cell_type": "code",
   "execution_count": 19,
   "metadata": {
    "collapsed": false
   },
   "outputs": [
    {
     "data": {
      "text/plain": [
       "1.0"
      ]
     },
     "execution_count": 19,
     "metadata": {},
     "output_type": "execute_result"
    }
   ],
   "source": [
    "df2['goal'].min()"
   ]
  },
  {
   "cell_type": "code",
   "execution_count": 20,
   "metadata": {
    "collapsed": false
   },
   "outputs": [],
   "source": [
    "#average word count and word length blurb\n",
    "df.blurb_wc = df.blurb.str.split().apply(len)\n",
    "df.blurb_alpw = df.blurb.str.len()/df.blurb.str.count(\" \")\n",
    "\n",
    "df2.blurb_wc = df2.blurb.str.split().apply(len)\n",
    "df2.blurb_alpw = df2.blurb.str.len()/df2.blurb.str.count(\" \")\n",
    "\n"
   ]
  },
  {
   "cell_type": "code",
   "execution_count": 22,
   "metadata": {
    "collapsed": false
   },
   "outputs": [
    {
     "data": {
      "text/plain": [
       "<matplotlib.collections.PathCollection at 0xcfeb710>"
      ]
     },
     "execution_count": 22,
     "metadata": {},
     "output_type": "execute_result"
    },
    {
     "data": {
      "image/png": "[encoded data removed]",
      "text/plain": [
       "<matplotlib.figure.Figure at 0xcfebe48>"
      ]
     },
     "metadata": {},
     "output_type": "display_data"
    }
   ],
   "source": [
    "plt.scatter(df.blurb_wc,df['percentage.funded'])\n",
    "plt.scatter(df.blurb_alpw,df['percentage.funded'])"
   ]
  },
  {
   "cell_type": "code",
   "execution_count": null,
   "metadata": {
    "collapsed": true
   },
   "outputs": [],
   "source": [
    "df['binnen']=df['end.time'].where(df['percentage.funded'] >100).value_counts()\n",
    "#df.iloc[1].(df['percentage.funded'] > 100).value_counts()\n",
    "plt.figure(figsize=(10,6))\n",
    "plt.scatter(df['end.time'].dt.month, df['binnen'])"
   ]
  },
  {
   "cell_type": "code",
   "execution_count": 21,
   "metadata": {
    "collapsed": false
   },
   "outputs": [
    {
     "data": {
      "text/plain": [
       "<matplotlib.collections.PathCollection at 0xb0c6f60>"
      ]
     },
     "execution_count": 21,
     "metadata": {},
     "output_type": "execute_result"
    },
    {
     "data": {
      "image/png": "[encoded data removed]",
      "text/plain": [
       "<matplotlib.figure.Figure at 0xb0c6fd0>"
      ]
     },
     "metadata": {},
     "output_type": "display_data"
    }
   ],
   "source": [
    "plt.scatter(df2.blurb_wc,df2['amt.pledged'])\n",
    "plt.scatter(df2.blurb_alpw,df2['amt.pledged'])\n"
   ]
  },
  {
   "cell_type": "code",
   "execution_count": 7,
   "metadata": {
    "collapsed": false
   },
   "outputs": [
    {
     "name": "stdout",
     "output_type": "stream",
     "text": [
      "0      NaN\n",
      "1      NaN\n",
      "2      NaN\n",
      "3      NaN\n",
      "4      NaN\n",
      "5      NaN\n",
      "6      NaN\n",
      "7      NaN\n",
      "8      NaN\n",
      "9      NaN\n",
      "10     NaN\n",
      "11     NaN\n",
      "12     NaN\n",
      "13     NaN\n",
      "14     NaN\n",
      "15     NaN\n",
      "16     NaN\n",
      "17     NaN\n",
      "18     NaN\n",
      "19     NaN\n",
      "20     NaN\n",
      "21     NaN\n",
      "22     NaN\n",
      "23     NaN\n",
      "24     NaN\n",
      "25     NaN\n",
      "26     NaN\n",
      "27     NaN\n",
      "28     NaN\n",
      "29     NaN\n",
      "        ..\n",
      "3970   NaN\n",
      "3971   NaN\n",
      "3972   NaN\n",
      "3973   NaN\n",
      "3974   NaN\n",
      "3975   NaN\n",
      "3976   NaN\n",
      "3977   NaN\n",
      "3978   NaN\n",
      "3979   NaN\n",
      "3980   NaN\n",
      "3981   NaN\n",
      "3982   NaN\n",
      "3983   NaN\n",
      "3984   NaN\n",
      "3985   NaN\n",
      "3986   NaN\n",
      "3987   NaN\n",
      "3988   NaN\n",
      "3989   NaN\n",
      "3990   NaN\n",
      "3991   NaN\n",
      "3992   NaN\n",
      "3993   NaN\n",
      "3994   NaN\n",
      "3995   NaN\n",
      "3996   NaN\n",
      "3997   NaN\n",
      "3998   NaN\n",
      "3999   NaN\n",
      "Name: binnen, dtype: float64\n"
     ]
    }
   ],
   "source": [
    "df['binnen']=df['end.time'].where(df['percentage.funded'] >100).value_counts()\n",
    "#df.iloc[1].(df['percentage.funded'] > 100).value_counts()\n",
    "#plt.figure(figsize=(10,6))\n",
    "#plt.scatter(df['end.time'].dt.month, df['binnen'])\n",
    "print(df['binnen'])"
   ]
  },
  {
   "cell_type": "code",
   "execution_count": null,
   "metadata": {
    "collapsed": true
   },
   "outputs": [],
   "source": []
  }
 ],
 "metadata": {
  "kernelspec": {
   "display_name": "Python 3",
   "language": "python",
   "name": "python3"
  },
  "language_info": {
   "codemirror_mode": {
    "name": "ipython",
    "version": 3
   },
   "file_extension": ".py",
   "mimetype": "text/x-python",
   "name": "python",
   "nbconvert_exporter": "python",
   "pygments_lexer": "ipython3",
   "version": "3.6.0"
  }
 },
 "nbformat": 4,
 "nbformat_minor": 2
}
